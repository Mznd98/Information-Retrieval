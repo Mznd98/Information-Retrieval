{
 "cells": [
  {
   "cell_type": "code",
   "execution_count": 129,
   "id": "2b36b268",
   "metadata": {},
   "outputs": [],
   "source": [
    "import pandas as pd\n",
    "import numpy as np\n",
    "import math\n",
    "import copy\n",
    "import itertools\n",
    "\n",
    "# import models\n",
    "from preprocessing import get_sessions, train_test_split, n_unique_queries\n",
    "from RCM import RCM\n",
    "from RCTR import RCTR\n",
    "from DCTR import DCTR\n",
    "from CM import CM\n",
    "from DCM import DCM\n",
    "from PBM import PBM\n",
    "from UBM import UBM\n",
    "from SDBN import SDBN"
   ]
  },
  {
   "cell_type": "code",
   "execution_count": 130,
   "id": "754e645e",
   "metadata": {},
   "outputs": [],
   "source": [
    "# function for the computation of the confidence interval\n",
    "from scipy.stats import t\n",
    "def closed_formula(m, s, len_, confidence=0.95):\n",
    "    '''\n",
    "    Function to compute a confidence interval by using the definition\n",
    "    m = mean\n",
    "    s = std\n",
    "    '''\n",
    "    dof = len_-1\n",
    "    # compute the t value\n",
    "    t_crit = np.abs(t.ppf((1-confidence)/2,dof))\n",
    "    # compute the CI\n",
    "    return [m-s*t_crit/np.sqrt(len_), m+s*t_crit/np.sqrt(len_)]"
   ]
  },
  {
   "cell_type": "code",
   "execution_count": 131,
   "id": "5b5d4a11",
   "metadata": {},
   "outputs": [],
   "source": [
    "# as the previous one but with a different computation\n",
    "def bootstrap(values, confidence=0.95):\n",
    "    '''\n",
    "    Function to compute a confidece interval by using the bootstrap method\n",
    "    '''\n",
    "    return np.percentile(values,[100*(1-confidence)/2,100*(1-(1-confidence)/2)])"
   ]
  },
  {
   "cell_type": "markdown",
   "id": "f82e9af3",
   "metadata": {},
   "source": [
    "Bootstraps gives an unbiased estimate, paying the cost of a computationally complex algorithm. As you can clearly see below, there is not a big difference between the two methods."
   ]
  },
  {
   "cell_type": "code",
   "execution_count": 132,
   "id": "2061400d",
   "metadata": {},
   "outputs": [],
   "source": [
    "def print_estimation(model_, parameter, values):\n",
    "    '''\n",
    "    Function just to print results\n",
    "    '''\n",
    "    print(\"\\033[1m\"+\"{} estimation: {}\\n\".format(parameter,model_.__class__.__name__))\n",
    "    mean = values[1]\n",
    "    std = values[2]\n",
    "    len_ = values[3]\n",
    "    print('\\033[0m'+\"Estimator (on the test set): {}\".format(mean))\n",
    "    ci = closed_formula(mean, std, len_)\n",
    "    ci_boot = values[4]\n",
    "    print(\"CI with the closed formula: {}\".format(ci))\n",
    "    print(\"CI with bootstrap: {}\\n\".format(ci_boot))\n",
    "    #print(\"Test estimator: {}\".format(np.mean(parameter_list_test)))\n",
    "    print('-------------------------------------------------------')\n",
    "    return "
   ]
  },
  {
   "cell_type": "code",
   "execution_count": 133,
   "id": "648f2403",
   "metadata": {},
   "outputs": [],
   "source": [
    "import time\n",
    "from tqdm import tqdm\n",
    "def parameters_estimation(model_, verbose = True, n_sessions=100000, samples = 15):\n",
    "    '''\n",
    "    This function create a list (both for training and test sets because \n",
    "    I still don't know which one I should use), with the values of the loglikelihood and\n",
    "    perplexity computed for different samples (default 15). \n",
    "    Each sample is a subset of clicklog with \"n_sessions\" sessions.\n",
    "    \n",
    "    It then compute the mean (that is the estimate of the population mean), and\n",
    "    computes the confidence interval (both with the closed formula and the boostrap method)\n",
    "    \n",
    "    If verbose=True it prints results\n",
    "    '''\n",
    "    start, stop = 1, n_sessions\n",
    "    parameter_list = []\n",
    "    parameter2_list = []\n",
    "    parameter2_ranklist = []\n",
    "    time_list = []\n",
    "    estimation = {}\n",
    "    description=\"Processing {}\".format(model_.__class__.__name__)\n",
    "    for i in tqdm(range(samples), desc=description):\n",
    "        sessions = get_sessions('Clicklog.txt', stop, start)\n",
    "        train_sessions, test_sessions = train_test_split(sessions, 0.75)\n",
    "        \n",
    "        start_time = time.time()\n",
    "        model = model_\n",
    "        model.train(train_sessions)\n",
    "        time_list.append(time.time() - start_time)\n",
    "        \n",
    "        parameter_list.append(model.log_likelihood(test_sessions))\n",
    "        parameter2_list.append(model.perplexity(test_sessions))\n",
    "        parameter2_ranklist.append(model.perplexity_per_rank(test_sessions))\n",
    "        start += n_sessions\n",
    "        stop += n_sessions\n",
    "            \n",
    "        \n",
    "    estimation['Log-likelihood']=[parameter_list,\n",
    "                                  np.mean(parameter_list),\n",
    "                                  np.std(parameter_list),\n",
    "                                  len(parameter_list),\n",
    "                                  bootstrap(parameter_list)]\n",
    "    estimation['Perplexity']=[parameter2_list,\n",
    "                              np.mean(parameter2_list),\n",
    "                              np.std(parameter2_list),\n",
    "                              len(parameter2_list),\n",
    "                              bootstrap(parameter2_list)]\n",
    "                              #np.mean(parameter2_ranklist, axis=0)]\n",
    "    estimation['Time']=[time_list,\n",
    "                        np.mean(time_list),\n",
    "                        np.std(time_list),\n",
    "                        len(time_list),\n",
    "                        bootstrap(time_list)]\n",
    "    estimation['Perplexity per rank']=[parameter2_ranklist,\n",
    "                                       np.mean(parameter2_ranklist, axis=0),\n",
    "                                       np.std(parameter2_ranklist, axis=0),\n",
    "                                       len(parameter2_ranklist),\n",
    "                                       [bootstrap([i for i in np.array(parameter2_ranklist)[:,z]])[1]-bootstrap([i for i in np.array(parameter2_ranklist)[:,z]])[0] for z in range(10)]]\n",
    "    \n",
    "    if verbose:\n",
    "        for parameter, values in estimation.items():\n",
    "            print_estimation(model_, parameter, values)\n",
    "        \n",
    "    \n",
    "    return estimation"
   ]
  },
  {
   "cell_type": "code",
   "execution_count": 134,
   "id": "a3dfb700",
   "metadata": {},
   "outputs": [
    {
     "name": "stderr",
     "output_type": "stream",
     "text": [
      "Processing RCM: 100%|██████████| 15/15 [05:53<00:00, 23.56s/it]\n"
     ]
    },
    {
     "name": "stdout",
     "output_type": "stream",
     "text": [
      "\u001b[1mLog-likelihood estimation: RCM\n",
      "\n",
      "\u001b[0mEstimator (on the test set): -0.42135824591636806\n",
      "CI with the closed formula: [-0.42429361789478215, -0.41842287393795397]\n",
      "CI with bootstrap: [-0.43073405 -0.41449664]\n",
      "\n",
      "-------------------------------------------------------\n",
      "\u001b[1mPerplexity estimation: RCM\n",
      "\n",
      "\u001b[0mEstimator (on the test set): 1.7166685440173448\n",
      "CI with the closed formula: [1.70618768645642, 1.7271494015782696]\n",
      "CI with bootstrap: [1.68924104 1.74745431]\n",
      "\n",
      "-------------------------------------------------------\n",
      "\u001b[1mTime estimation: RCM\n",
      "\n",
      "\u001b[0mEstimator (on the test set): 0.454217799504598\n",
      "CI with the closed formula: [0.3881707646090803, 0.5202648344001157]\n",
      "CI with bootstrap: [0.16819289 0.56595947]\n",
      "\n",
      "-------------------------------------------------------\n",
      "\u001b[1mPerplexity per rank estimation: RCM\n",
      "\n",
      "\u001b[0mEstimator (on the test set): [5.11362594 1.68737585 1.45974621 1.3676124  1.31141798 1.27566824\n",
      " 1.25440374 1.23399508 1.23008841 1.23275161]\n",
      "CI with the closed formula: [array([5.02028794, 1.67869936, 1.45573579, 1.36379303, 1.30772129,\n",
      "       1.27267409, 1.25170018, 1.23264883, 1.22743627, 1.23011124]), array([5.20696394, 1.69605233, 1.46375663, 1.37143177, 1.31511466,\n",
      "       1.27866239, 1.25710729, 1.23534134, 1.23274054, 1.23539197])]\n",
      "CI with bootstrap: [0.5462323821708726, 0.05222084879683897, 0.026287411816822814, 0.019717401051005723, 0.020666720727807064, 0.018792118016239145, 0.01648470259370005, 0.008170896018009355, 0.01592780896547441, 0.013622815168821356]\n",
      "\n",
      "-------------------------------------------------------\n"
     ]
    }
   ],
   "source": [
    "rcm_estimators = parameters_estimation(RCM()) #example"
   ]
  },
  {
   "cell_type": "code",
   "execution_count": 135,
   "id": "9fe9c71e",
   "metadata": {},
   "outputs": [],
   "source": [
    "def take_boot(where):\n",
    "    return where[4][1]-where[4][0]"
   ]
  },
  {
   "cell_type": "code",
   "execution_count": 136,
   "id": "265773d7",
   "metadata": {},
   "outputs": [],
   "source": [
    "model_list = [RCM(), RCTR(), DCTR(), CM(), DCM(), PBM(), UBM(), SDBN()] #models!!"
   ]
  },
  {
   "cell_type": "code",
   "execution_count": 137,
   "id": "34283cf0",
   "metadata": {},
   "outputs": [
    {
     "name": "stdout",
     "output_type": "stream",
     "text": [
      "Runned models:\n",
      "\n"
     ]
    },
    {
     "data": {
      "application/vnd.jupyter.widget-view+json": {
       "model_id": "6f4ccea452734f6e9294d0155f7e9647",
       "version_major": 2,
       "version_minor": 0
      },
      "text/plain": [
       "Processing RCM:   0%|          | 0/15 [00:00<?, ?it/s]"
      ]
     },
     "metadata": {},
     "output_type": "display_data"
    },
    {
     "data": {
      "application/vnd.jupyter.widget-view+json": {
       "model_id": "7b7f3cc128a8401fba4f8ef17c8024a1",
       "version_major": 2,
       "version_minor": 0
      },
      "text/plain": [
       "Processing RCTR:   0%|          | 0/15 [00:00<?, ?it/s]"
      ]
     },
     "metadata": {},
     "output_type": "display_data"
    },
    {
     "data": {
      "application/vnd.jupyter.widget-view+json": {
       "model_id": "bab75880fa134988add5567cb4422bee",
       "version_major": 2,
       "version_minor": 0
      },
      "text/plain": [
       "Processing DCTR:   0%|          | 0/15 [00:00<?, ?it/s]"
      ]
     },
     "metadata": {},
     "output_type": "display_data"
    },
    {
     "data": {
      "application/vnd.jupyter.widget-view+json": {
       "model_id": "f8e2d2e373d84479aadc031b69d5ef0e",
       "version_major": 2,
       "version_minor": 0
      },
      "text/plain": [
       "Processing CM:   0%|          | 0/15 [00:00<?, ?it/s]"
      ]
     },
     "metadata": {},
     "output_type": "display_data"
    },
    {
     "data": {
      "application/vnd.jupyter.widget-view+json": {
       "model_id": "8dc496e1db0f466cb6a4f31d9961044b",
       "version_major": 2,
       "version_minor": 0
      },
      "text/plain": [
       "Processing DCM:   0%|          | 0/15 [00:00<?, ?it/s]"
      ]
     },
     "metadata": {},
     "output_type": "display_data"
    },
    {
     "data": {
      "application/vnd.jupyter.widget-view+json": {
       "model_id": "2ad8c7e4697447dea92efd6a7b99b0ab",
       "version_major": 2,
       "version_minor": 0
      },
      "text/plain": [
       "Processing PBM:   0%|          | 0/15 [00:00<?, ?it/s]"
      ]
     },
     "metadata": {},
     "output_type": "display_data"
    },
    {
     "data": {
      "application/vnd.jupyter.widget-view+json": {
       "model_id": "95b37965ad17460fb797113eae02b920",
       "version_major": 2,
       "version_minor": 0
      },
      "text/plain": [
       "Processing UBM:   0%|          | 0/15 [00:00<?, ?it/s]"
      ]
     },
     "metadata": {},
     "output_type": "display_data"
    },
    {
     "data": {
      "application/vnd.jupyter.widget-view+json": {
       "model_id": "0e3d7386b4ee4b10879e70cb0ab66ad3",
       "version_major": 2,
       "version_minor": 0
      },
      "text/plain": [
       "Processing SDBN:   0%|          | 0/15 [00:00<?, ?it/s]"
      ]
     },
     "metadata": {},
     "output_type": "display_data"
    }
   ],
   "source": [
    "# lists to save values\n",
    "list_names, list_log, list_perp, list_time = [], [], [], []\n",
    "dict_perp_rank = {}\n",
    "# to draw the confidence interval in the bar plot\n",
    "list_log_boot, list_perp_boot, list_time_boot = [], [], []\n",
    "dict_perprank_boot = {}\n",
    "\n",
    "from tqdm.notebook import tqdm\n",
    "print(\"Runned models:\\n\")\n",
    "for model in model_list:\n",
    "    estimators = parameters_estimation(model, verbose=False)\n",
    "        \n",
    "    list_names.append(model.__class__.__name__)\n",
    "    #print(\"\\t\\t {} \\u2713\".format(model.__class__.__name__))\n",
    "    list_log.append(estimators['Log-likelihood'][1])\n",
    "    list_log_boot.append(take_boot(estimators['Log-likelihood']))\n",
    "    list_perp.append(estimators['Perplexity'][1])\n",
    "    list_perp_boot.append(take_boot(estimators['Perplexity']))\n",
    "    list_time.append(estimators['Time'][1])\n",
    "    list_time_boot.append(take_boot(estimators['Time']))\n",
    "    dict_perp_rank[model.__class__.__name__] = estimators['Perplexity per rank'][1]\n",
    "    dict_perprank_boot[model.__class__.__name__] = estimators['Perplexity per rank'][4]"
   ]
  },
  {
   "cell_type": "code",
   "execution_count": null,
   "id": "59ebb47a",
   "metadata": {},
   "outputs": [],
   "source": [
    "# dataframe with them all together"
   ]
  },
  {
   "cell_type": "code",
   "execution_count": 138,
   "id": "fe9b9505",
   "metadata": {},
   "outputs": [
    {
     "data": {
      "text/html": [
       "<div>\n",
       "<style scoped>\n",
       "    .dataframe tbody tr th:only-of-type {\n",
       "        vertical-align: middle;\n",
       "    }\n",
       "\n",
       "    .dataframe tbody tr th {\n",
       "        vertical-align: top;\n",
       "    }\n",
       "\n",
       "    .dataframe thead th {\n",
       "        text-align: right;\n",
       "    }\n",
       "</style>\n",
       "<table border=\"1\" class=\"dataframe\">\n",
       "  <thead>\n",
       "    <tr style=\"text-align: right;\">\n",
       "      <th></th>\n",
       "      <th>Names</th>\n",
       "      <th>Loglike</th>\n",
       "      <th>Perplexity</th>\n",
       "      <th>Time</th>\n",
       "    </tr>\n",
       "  </thead>\n",
       "  <tbody>\n",
       "    <tr>\n",
       "      <th>0</th>\n",
       "      <td>RCM</td>\n",
       "      <td>-0.421358</td>\n",
       "      <td>1.716669</td>\n",
       "      <td>0.411567</td>\n",
       "    </tr>\n",
       "    <tr>\n",
       "      <th>1</th>\n",
       "      <td>RCTR</td>\n",
       "      <td>-0.308236</td>\n",
       "      <td>1.387819</td>\n",
       "      <td>2.110245</td>\n",
       "    </tr>\n",
       "    <tr>\n",
       "      <th>2</th>\n",
       "      <td>DCTR</td>\n",
       "      <td>-0.261053</td>\n",
       "      <td>1.310789</td>\n",
       "      <td>22.539181</td>\n",
       "    </tr>\n",
       "    <tr>\n",
       "      <th>3</th>\n",
       "      <td>CM</td>\n",
       "      <td>-0.292252</td>\n",
       "      <td>1.351409</td>\n",
       "      <td>21.399894</td>\n",
       "    </tr>\n",
       "    <tr>\n",
       "      <th>4</th>\n",
       "      <td>DCM</td>\n",
       "      <td>-0.261508</td>\n",
       "      <td>1.311111</td>\n",
       "      <td>42.377870</td>\n",
       "    </tr>\n",
       "    <tr>\n",
       "      <th>5</th>\n",
       "      <td>PBM</td>\n",
       "      <td>-0.254992</td>\n",
       "      <td>1.303039</td>\n",
       "      <td>663.380839</td>\n",
       "    </tr>\n",
       "    <tr>\n",
       "      <th>6</th>\n",
       "      <td>UBM</td>\n",
       "      <td>-0.240261</td>\n",
       "      <td>1.286096</td>\n",
       "      <td>2182.314747</td>\n",
       "    </tr>\n",
       "    <tr>\n",
       "      <th>7</th>\n",
       "      <td>SDBN</td>\n",
       "      <td>-0.255957</td>\n",
       "      <td>1.303559</td>\n",
       "      <td>108.801491</td>\n",
       "    </tr>\n",
       "  </tbody>\n",
       "</table>\n",
       "</div>"
      ],
      "text/plain": [
       "  Names   Loglike  Perplexity         Time\n",
       "0   RCM -0.421358    1.716669     0.411567\n",
       "1  RCTR -0.308236    1.387819     2.110245\n",
       "2  DCTR -0.261053    1.310789    22.539181\n",
       "3    CM -0.292252    1.351409    21.399894\n",
       "4   DCM -0.261508    1.311111    42.377870\n",
       "5   PBM -0.254992    1.303039   663.380839\n",
       "6   UBM -0.240261    1.286096  2182.314747\n",
       "7  SDBN -0.255957    1.303559   108.801491"
      ]
     },
     "execution_count": 138,
     "metadata": {},
     "output_type": "execute_result"
    }
   ],
   "source": [
    "pd_parameters = pd.DataFrame({'Names': list_names, 'Loglike': list_log, \n",
    "              'Perplexity': list_perp, 'Time': list_time})\n",
    "pd_parameters"
   ]
  },
  {
   "cell_type": "code",
   "execution_count": 141,
   "id": "d1f9e3e8",
   "metadata": {},
   "outputs": [],
   "source": [
    "import matplotlib.pyplot as plt\n",
    "def bar_plot(y, list_error, title):\n",
    "    fig = plt.figure(figsize=(10, 7))\n",
    "    plt.bar(pd_parameters['Names'], y, yerr=list_error, capsize=4)\n",
    "    plt.title('{} values for different models'.format(title))\n",
    "    plt.ylabel('{}'.format(title))\n",
    "    plt.show()\n",
    "    return"
   ]
  },
  {
   "cell_type": "code",
   "execution_count": 142,
   "id": "70fe151f",
   "metadata": {},
   "outputs": [
    {
     "data": {
      "image/png": "[encoded data removed]",
      "text/plain": [
       "<Figure size 720x504 with 1 Axes>"
      ]
     },
     "metadata": {
      "needs_background": "light"
     },
     "output_type": "display_data"
    }
   ],
   "source": [
    "bar_plot(pd_parameters['Loglike'], list_log_boot, 'Log-likelihood') #100.000"
   ]
  },
  {
   "cell_type": "code",
   "execution_count": 143,
   "id": "b748c884",
   "metadata": {},
   "outputs": [
    {
     "data": {
      "image/png": "[encoded data removed]",
      "text/plain": [
       "<Figure size 720x504 with 1 Axes>"
      ]
     },
     "metadata": {
      "needs_background": "light"
     },
     "output_type": "display_data"
    }
   ],
   "source": [
    "bar_plot(pd_parameters['Perplexity'], list_perp_boot, 'Perplexity') #100.000"
   ]
  },
  {
   "cell_type": "code",
   "execution_count": 161,
   "id": "b422e5f9",
   "metadata": {
    "scrolled": false
   },
   "outputs": [
    {
     "data": {
      "text/plain": [
       "{'RCM': '#640EBB',\n",
       " 'RCTR': '#37A2AF',\n",
       " 'DCTR': '#D0EA22',\n",
       " 'CM': '#6CACED',\n",
       " 'DCM': '#B3CD70',\n",
       " 'PBM': '#0DBE7E',\n",
       " 'UBM': '#E499A8',\n",
       " 'SDBN': '#6E86EF'}"
      ]
     },
     "execution_count": 161,
     "metadata": {},
     "output_type": "execute_result"
    }
   ],
   "source": [
    "# create a list of colors for the plot: necessary only if we plot the confidence interval too\n",
    "from random import randint\n",
    "colors = {}\n",
    "i=0\n",
    "for name in pd_parameters['Names']:\n",
    "    colors[name] = '#%06X' % randint(0, 0xFFFFFF)\n",
    "    i+=1\n",
    "colors"
   ]
  },
  {
   "cell_type": "code",
   "execution_count": 162,
   "id": "c28c5c45",
   "metadata": {},
   "outputs": [
    {
     "data": {
      "image/png": "[encoded data removed]",
      "text/plain": [
       "<Figure size 720x504 with 1 Axes>"
      ]
     },
     "metadata": {
      "needs_background": "light"
     },
     "output_type": "display_data"
    }
   ],
   "source": [
    "x_axis = range(1, 11)\n",
    "fig = plt.figure(figsize=(10,7))\n",
    "for name, list_rank in dict_perp_rank.items():\n",
    "    plt.plot(x_axis, list_rank, '-o', label=name, color=colors[name])\n",
    "    plt.bar(x_axis, dict_perp_rank[name], yerr=dict_perprank_boot[name],\n",
    "            alpha=0, capsize=4, ecolor=colors[name])\n",
    "plt.ylim(1, 2.2)\n",
    "plt.xticks(range(1, 11))\n",
    "plt.xlabel('rank')\n",
    "plt.ylabel('Perplexity')\n",
    "plt.legend()\n",
    "plt.show()"
   ]
  },
  {
   "cell_type": "code",
   "execution_count": 165,
   "id": "7ef677c5",
   "metadata": {},
   "outputs": [
    {
     "data": {
      "image/png": "[encoded data removed]",
      "text/plain": [
       "<Figure size 720x504 with 1 Axes>"
      ]
     },
     "metadata": {
      "needs_background": "light"
     },
     "output_type": "display_data"
    }
   ],
   "source": [
    "fig = plt.figure(figsize=(10, 7))\n",
    "plt.bar(pd_parameters['Names'], pd_parameters['Time'])\n",
    "        #, yerr=list_error, capsize=4)\n",
    "#plt.title('{} values for different models'.format(title))\n",
    "#plt.ylabel('{}'.format(title))\n",
    "plt.show()"
   ]
  },
  {
   "cell_type": "code",
   "execution_count": 146,
   "id": "eb58bf65",
   "metadata": {},
   "outputs": [
    {
     "data": {
      "image/png": "[encoded data removed]",
      "text/plain": [
       "<Figure size 720x504 with 1 Axes>"
      ]
     },
     "metadata": {
      "needs_background": "light"
     },
     "output_type": "display_data"
    }
   ],
   "source": [
    "bar_plot(pd_parameters['Time'], list_time_boot, 'Time')"
   ]
  },
  {
   "cell_type": "code",
   "execution_count": 151,
   "id": "b3e7f430",
   "metadata": {},
   "outputs": [
    {
     "data": {
      "text/plain": [
       "9336.111571621897"
      ]
     },
     "execution_count": 151,
     "metadata": {},
     "output_type": "execute_result"
    }
   ],
   "source": [
    "max(list_time_boot)"
   ]
  },
  {
   "cell_type": "code",
   "execution_count": 152,
   "id": "b8d744cf",
   "metadata": {},
   "outputs": [
    {
     "data": {
      "text/plain": [
       "0.3888893365859985"
      ]
     },
     "execution_count": 152,
     "metadata": {},
     "output_type": "execute_result"
    }
   ],
   "source": [
    "min(list_time_boot)"
   ]
  },
  {
   "cell_type": "markdown",
   "id": "862f1e26",
   "metadata": {},
   "source": [
    "Because of running problems (the computer went in sleep mode during the execution of UBM) we re-run UBM."
   ]
  },
  {
   "cell_type": "code",
   "execution_count": 168,
   "id": "7eb286e9",
   "metadata": {},
   "outputs": [
    {
     "data": {
      "application/vnd.jupyter.widget-view+json": {
       "model_id": "4a945ed93e79486a9667aaf8d1744cfa",
       "version_major": 2,
       "version_minor": 0
      },
      "text/plain": [
       "Processing UBM:   0%|          | 0/15 [00:00<?, ?it/s]"
      ]
     },
     "metadata": {},
     "output_type": "display_data"
    }
   ],
   "source": [
    "ubm_estimators = parameters_estimation(UBM(), verbose=False) #example"
   ]
  },
  {
   "cell_type": "code",
   "execution_count": 170,
   "id": "8accc53d",
   "metadata": {},
   "outputs": [
    {
     "data": {
      "text/plain": [
       "6    2182.314747\n",
       "Name: Time, dtype: float64"
      ]
     },
     "execution_count": 170,
     "metadata": {},
     "output_type": "execute_result"
    }
   ],
   "source": [
    "pd_parameters.loc[pd_parameters['Names']=='UBM', 'Time']"
   ]
  },
  {
   "cell_type": "code",
   "execution_count": 171,
   "id": "5dea1450",
   "metadata": {},
   "outputs": [],
   "source": [
    "pd_parameters.loc[pd_parameters['Names']=='UBM', 'Time'] = ubm_estimators['Time'][1]"
   ]
  },
  {
   "cell_type": "code",
   "execution_count": 172,
   "id": "c98fd1d1",
   "metadata": {},
   "outputs": [
    {
     "data": {
      "text/html": [
       "<div>\n",
       "<style scoped>\n",
       "    .dataframe tbody tr th:only-of-type {\n",
       "        vertical-align: middle;\n",
       "    }\n",
       "\n",
       "    .dataframe tbody tr th {\n",
       "        vertical-align: top;\n",
       "    }\n",
       "\n",
       "    .dataframe thead th {\n",
       "        text-align: right;\n",
       "    }\n",
       "</style>\n",
       "<table border=\"1\" class=\"dataframe\">\n",
       "  <thead>\n",
       "    <tr style=\"text-align: right;\">\n",
       "      <th></th>\n",
       "      <th>Names</th>\n",
       "      <th>Loglike</th>\n",
       "      <th>Perplexity</th>\n",
       "      <th>Time</th>\n",
       "    </tr>\n",
       "  </thead>\n",
       "  <tbody>\n",
       "    <tr>\n",
       "      <th>0</th>\n",
       "      <td>RCM</td>\n",
       "      <td>-0.421358</td>\n",
       "      <td>1.716669</td>\n",
       "      <td>0.411567</td>\n",
       "    </tr>\n",
       "    <tr>\n",
       "      <th>1</th>\n",
       "      <td>RCTR</td>\n",
       "      <td>-0.308236</td>\n",
       "      <td>1.387819</td>\n",
       "      <td>2.110245</td>\n",
       "    </tr>\n",
       "    <tr>\n",
       "      <th>2</th>\n",
       "      <td>DCTR</td>\n",
       "      <td>-0.261053</td>\n",
       "      <td>1.310789</td>\n",
       "      <td>22.539181</td>\n",
       "    </tr>\n",
       "    <tr>\n",
       "      <th>3</th>\n",
       "      <td>CM</td>\n",
       "      <td>-0.292252</td>\n",
       "      <td>1.351409</td>\n",
       "      <td>21.399894</td>\n",
       "    </tr>\n",
       "    <tr>\n",
       "      <th>4</th>\n",
       "      <td>DCM</td>\n",
       "      <td>-0.261508</td>\n",
       "      <td>1.311111</td>\n",
       "      <td>42.377870</td>\n",
       "    </tr>\n",
       "    <tr>\n",
       "      <th>5</th>\n",
       "      <td>PBM</td>\n",
       "      <td>-0.254992</td>\n",
       "      <td>1.303039</td>\n",
       "      <td>663.380839</td>\n",
       "    </tr>\n",
       "    <tr>\n",
       "      <th>6</th>\n",
       "      <td>UBM</td>\n",
       "      <td>-0.240261</td>\n",
       "      <td>1.286096</td>\n",
       "      <td>812.026098</td>\n",
       "    </tr>\n",
       "    <tr>\n",
       "      <th>7</th>\n",
       "      <td>SDBN</td>\n",
       "      <td>-0.255957</td>\n",
       "      <td>1.303559</td>\n",
       "      <td>108.801491</td>\n",
       "    </tr>\n",
       "  </tbody>\n",
       "</table>\n",
       "</div>"
      ],
      "text/plain": [
       "  Names   Loglike  Perplexity        Time\n",
       "0   RCM -0.421358    1.716669    0.411567\n",
       "1  RCTR -0.308236    1.387819    2.110245\n",
       "2  DCTR -0.261053    1.310789   22.539181\n",
       "3    CM -0.292252    1.351409   21.399894\n",
       "4   DCM -0.261508    1.311111   42.377870\n",
       "5   PBM -0.254992    1.303039  663.380839\n",
       "6   UBM -0.240261    1.286096  812.026098\n",
       "7  SDBN -0.255957    1.303559  108.801491"
      ]
     },
     "execution_count": 172,
     "metadata": {},
     "output_type": "execute_result"
    }
   ],
   "source": [
    "pd_parameters"
   ]
  },
  {
   "cell_type": "code",
   "execution_count": 173,
   "id": "8902a0f8",
   "metadata": {},
   "outputs": [],
   "source": [
    "list_time_boot_scaled = list_time_boot[:]"
   ]
  },
  {
   "cell_type": "code",
   "execution_count": 174,
   "id": "27e84d60",
   "metadata": {},
   "outputs": [
    {
     "data": {
      "text/plain": [
       "9336.111571621897"
      ]
     },
     "execution_count": 174,
     "metadata": {},
     "output_type": "execute_result"
    }
   ],
   "source": [
    "list_time_boot_scaled[-2]"
   ]
  },
  {
   "cell_type": "code",
   "execution_count": 175,
   "id": "eb510056",
   "metadata": {},
   "outputs": [
    {
     "data": {
      "text/plain": [
       "181.9154467105866"
      ]
     },
     "execution_count": 175,
     "metadata": {},
     "output_type": "execute_result"
    }
   ],
   "source": [
    "take_boot(ubm_estimators['Time'])"
   ]
  },
  {
   "cell_type": "code",
   "execution_count": 176,
   "id": "e7461200",
   "metadata": {},
   "outputs": [],
   "source": [
    "list_time_boot_scaled[-2]=take_boot(ubm_estimators['Time'])"
   ]
  },
  {
   "cell_type": "code",
   "execution_count": 177,
   "id": "d28e2f73",
   "metadata": {},
   "outputs": [
    {
     "data": {
      "image/png": "[encoded data removed]",
      "text/plain": [
       "<Figure size 720x504 with 1 Axes>"
      ]
     },
     "metadata": {
      "needs_background": "light"
     },
     "output_type": "display_data"
    }
   ],
   "source": [
    "bar_plot(pd_parameters['Time'], list_time_boot_scaled, 'Time')"
   ]
  },
  {
   "cell_type": "code",
   "execution_count": null,
   "id": "44231905",
   "metadata": {},
   "outputs": [],
   "source": []
  },
  {
   "cell_type": "code",
   "execution_count": null,
   "id": "f9960f99",
   "metadata": {},
   "outputs": [],
   "source": []
  }
 ],
 "metadata": {
  "kernelspec": {
   "display_name": "Python 3",
   "language": "python",
   "name": "python3"
  },
  "language_info": {
   "codemirror_mode": {
    "name": "ipython",
    "version": 3
   },
   "file_extension": ".py",
   "mimetype": "text/x-python",
   "name": "python",
   "nbconvert_exporter": "python",
   "pygments_lexer": "ipython3",
   "version": "3.8.8"
  }
 },
 "nbformat": 4,
 "nbformat_minor": 5
}

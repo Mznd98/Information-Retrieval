{
 "cells": [
  {
   "cell_type": "code",
   "execution_count": 1,
   "id": "9cab77cc",
   "metadata": {},
   "outputs": [],
   "source": [
    "from preprocessing import get_sessions, train_test_split"
   ]
  },
  {
   "cell_type": "code",
   "execution_count": 4,
   "id": "0e7b9928",
   "metadata": {},
   "outputs": [],
   "source": [
    "sessions = get_sessions(\"dataset/Clicklog.txt\", 1000)\n",
    "train_sessions, test_sessions = train_test_split(sessions, 0.75)"
   ]
  },
  {
   "cell_type": "markdown",
   "id": "60701f84",
   "metadata": {},
   "source": [
    "## RCM"
   ]
  },
  {
   "cell_type": "code",
   "execution_count": 3,
   "id": "0dca2163",
   "metadata": {},
   "outputs": [
    {
     "data": {
      "text/plain": [
       "{'p': 0.13553693358162633}"
      ]
     },
     "execution_count": 3,
     "metadata": {},
     "output_type": "execute_result"
    }
   ],
   "source": [
    "from RCM import RCM\n",
    "\n",
    "model_rcm = RCM()\n",
    "model_rcm.train(train_sessions)\n",
    "model_rcm.params"
   ]
  },
  {
   "cell_type": "code",
   "execution_count": 4,
   "id": "d6f81691",
   "metadata": {},
   "outputs": [
    {
     "name": "stdout",
     "output_type": "stream",
     "text": [
      "Log-likelihood on train sessions: -0.39236637016914605\n",
      "Log-likelihood on  test sessions: -0.427409533551712\n",
      "Perplexity on train sessions: 1.5362684301067968\n",
      "Perplexity on  test sessions: 1.7468559058945812\n"
     ]
    }
   ],
   "source": [
    "print(f\"Log-likelihood on train sessions: {model_rcm.log_likelihood(train_sessions)}\")\n",
    "print(f\"Log-likelihood on  test sessions: {model_rcm.log_likelihood(test_sessions)}\")\n",
    "print(f\"Perplexity on train sessions: {model_rcm.perplexity(train_sessions)}\")\n",
    "print(f\"Perplexity on  test sessions: {model_rcm.perplexity(test_sessions)}\")"
   ]
  },
  {
   "cell_type": "markdown",
   "id": "88003c44",
   "metadata": {},
   "source": [
    "# RCTR"
   ]
  },
  {
   "cell_type": "code",
   "execution_count": 5,
   "id": "85630fa8",
   "metadata": {},
   "outputs": [],
   "source": [
    "from RCTR import RCTR\n",
    "\n",
    "model_rctr = RCTR()\n",
    "model_rctr.train(train_sessions)"
   ]
  },
  {
   "cell_type": "code",
   "execution_count": 6,
   "id": "d2c4b26d",
   "metadata": {},
   "outputs": [
    {
     "name": "stdout",
     "output_type": "stream",
     "text": [
      "Log-likelihood on train sessions: -0.33300539314233174\n",
      "Log-likelihood on  test sessions: -0.3064529543107062\n",
      "Perplexity on train sessions: 1.4159888800840228\n",
      "Perplexity on  test sessions: 1.3826843557642696\n"
     ]
    }
   ],
   "source": [
    "print(f\"Log-likelihood on train sessions: {model_rctr.log_likelihood(train_sessions)}\")\n",
    "print(f\"Log-likelihood on  test sessions: {model_rctr.log_likelihood(test_sessions)}\")\n",
    "print(f\"Perplexity on train sessions: {model_rctr.perplexity(train_sessions)}\")\n",
    "print(f\"Perplexity on  test sessions: {model_rctr.perplexity(test_sessions)}\")"
   ]
  },
  {
   "cell_type": "markdown",
   "id": "2a6ebbfa",
   "metadata": {},
   "source": [
    "## Document Click Through Rate"
   ]
  },
  {
   "cell_type": "code",
   "execution_count": 7,
   "id": "29fe9246",
   "metadata": {},
   "outputs": [],
   "source": [
    "from DCTR import DCTR\n",
    "\n",
    "model_dctr = DCTR()\n",
    "model_dctr.train(train_sessions)"
   ]
  },
  {
   "cell_type": "code",
   "execution_count": 8,
   "id": "3ad9fabb",
   "metadata": {},
   "outputs": [
    {
     "name": "stdout",
     "output_type": "stream",
     "text": [
      "Log-likelihood on train sessions: -0.36849815832493416\n",
      "Log-likelihood on  test sessions: -0.333009839313245\n",
      "Perplexity on train sessions: 1.4462174828513679\n",
      "Perplexity on  test sessions: 1.404142363254183\n"
     ]
    }
   ],
   "source": [
    "print(f\"Log-likelihood on train sessions: {model_dctr.log_likelihood(train_sessions)}\")\n",
    "print(f\"Log-likelihood on  test sessions: {model_dctr.log_likelihood(test_sessions)}\")\n",
    "print(f\"Perplexity on train sessions: {model_dctr.perplexity(train_sessions)}\")\n",
    "print(f\"Perplexity on  test sessions: {model_dctr.perplexity(test_sessions)}\")"
   ]
  },
  {
   "cell_type": "markdown",
   "id": "ea19fffc",
   "metadata": {},
   "source": [
    "## Cascade"
   ]
  },
  {
   "cell_type": "code",
   "execution_count": 9,
   "id": "dc17e4c5",
   "metadata": {},
   "outputs": [],
   "source": [
    "from CM import CM\n",
    "model_cm = CM()\n",
    "model_cm.train(train_sessions)"
   ]
  },
  {
   "cell_type": "code",
   "execution_count": 10,
   "id": "33d82667",
   "metadata": {
    "scrolled": true
   },
   "outputs": [
    {
     "name": "stdout",
     "output_type": "stream",
     "text": [
      "Log-likelihood on train sessions: -0.4082949039242248\n",
      "Log-likelihood on  test sessions: -0.418952522662531\n",
      "Perplexity on train sessions: 1.5051293507536878\n",
      "Perplexity on  test sessions: 1.5243004540792449\n"
     ]
    }
   ],
   "source": [
    "print(f\"Log-likelihood on train sessions: {model_cm.log_likelihood(train_sessions)}\")\n",
    "print(f\"Log-likelihood on  test sessions: {model_cm.log_likelihood(test_sessions)}\")\n",
    "\n",
    "print(f\"Perplexity on train sessions: {model_cm.perplexity(train_sessions)}\")\n",
    "print(f\"Perplexity on  test sessions: {model_cm.perplexity(test_sessions)}\")"
   ]
  },
  {
   "cell_type": "markdown",
   "id": "5ab1e3e7",
   "metadata": {},
   "source": [
    "# DCM"
   ]
  },
  {
   "cell_type": "code",
   "execution_count": 11,
   "id": "05caf46f",
   "metadata": {},
   "outputs": [],
   "source": [
    "from DCM import DCM\n",
    "\n",
    "model_dcm = DCM()\n",
    "model_dcm.train(train_sessions)"
   ]
  },
  {
   "cell_type": "code",
   "execution_count": 12,
   "id": "76e267c6",
   "metadata": {
    "scrolled": true
   },
   "outputs": [
    {
     "name": "stdout",
     "output_type": "stream",
     "text": [
      "Log-likelihood on train sessions: -0.27829579568239704\n",
      "Log-likelihood on  test sessions: -0.2954123251161992\n",
      "Perplexity on train sessions: 1.3269453986338073\n",
      "Perplexity on  test sessions: 1.357061454563929\n"
     ]
    }
   ],
   "source": [
    "print(f\"Log-likelihood on train sessions: {model_dcm.log_likelihood(train_sessions)}\")\n",
    "print(f\"Log-likelihood on  test sessions: {model_dcm.log_likelihood(test_sessions)}\")\n",
    "\n",
    "print(f\"Perplexity on train sessions: {model_dcm.perplexity(train_sessions)}\")\n",
    "print(f\"Perplexity on  test sessions: {model_dcm.perplexity(test_sessions)}\")"
   ]
  },
  {
   "cell_type": "markdown",
   "id": "0f61e172",
   "metadata": {},
   "source": [
    "# PBM"
   ]
  },
  {
   "cell_type": "code",
   "execution_count": 13,
   "id": "47b66296",
   "metadata": {},
   "outputs": [],
   "source": [
    "from PBM import PBM\n",
    "\n",
    "model_pbm = PBM()\n",
    "model_pbm.train(train_sessions)"
   ]
  },
  {
   "cell_type": "code",
   "execution_count": 14,
   "id": "54a026f7",
   "metadata": {},
   "outputs": [
    {
     "name": "stdout",
     "output_type": "stream",
     "text": [
      "Log-likelihood on train sessions: -0.27230403636280875\n",
      "Log-likelihood on  test sessions: -0.28066263444051204\n",
      "Perplexity on train sessions: 1.3195494422882388\n",
      "Perplexity on  test sessions: 1.3365798350299172\n"
     ]
    }
   ],
   "source": [
    "print(f\"Log-likelihood on train sessions: {model_pbm.log_likelihood(train_sessions)}\")\n",
    "print(f\"Log-likelihood on  test sessions: {model_pbm.log_likelihood(test_sessions)}\")\n",
    "print(f\"Perplexity on train sessions: {model_pbm.perplexity(train_sessions)}\")\n",
    "print(f\"Perplexity on  test sessions: {model_pbm.perplexity(test_sessions)}\")"
   ]
  },
  {
   "cell_type": "markdown",
   "id": "8ee0eebf",
   "metadata": {},
   "source": [
    "# UBM"
   ]
  },
  {
   "cell_type": "code",
   "execution_count": 15,
   "id": "56ba196c",
   "metadata": {},
   "outputs": [],
   "source": [
    "from UBM import UBM\n",
    "\n",
    "model_ubm = UBM()\n",
    "model_ubm.train(train_sessions)"
   ]
  },
  {
   "cell_type": "code",
   "execution_count": 16,
   "id": "649ee723",
   "metadata": {},
   "outputs": [
    {
     "name": "stdout",
     "output_type": "stream",
     "text": [
      "Log-likelihood on train sessions: -0.23583508090381333\n",
      "Log-likelihood on  test sessions: -0.2622756879276756\n",
      "Perplexity on train sessions: 1.274481475713276\n",
      "Perplexity on  test sessions: 1.314494934348156\n"
     ]
    }
   ],
   "source": [
    "print(f\"Log-likelihood on train sessions: {model_ubm.log_likelihood(train_sessions)}\")\n",
    "print(f\"Log-likelihood on  test sessions: {model_ubm.log_likelihood(test_sessions)}\")\n",
    "print(f\"Perplexity on train sessions: {model_ubm.perplexity(train_sessions)}\")\n",
    "print(f\"Perplexity on  test sessions: {model_ubm.perplexity(test_sessions)}\")"
   ]
  },
  {
   "cell_type": "markdown",
   "id": "f34f86a6",
   "metadata": {},
   "source": [
    "# SDBN"
   ]
  },
  {
   "cell_type": "code",
   "execution_count": 17,
   "id": "33acaff4",
   "metadata": {},
   "outputs": [],
   "source": [
    "from SDBN import SDBN\n",
    "\n",
    "model_sdbn = SDBN()\n",
    "model_sdbn.train(train_sessions)"
   ]
  },
  {
   "cell_type": "code",
   "execution_count": 18,
   "id": "60b57aa5",
   "metadata": {},
   "outputs": [
    {
     "name": "stdout",
     "output_type": "stream",
     "text": [
      "Log-likelihood on train sessions: -0.2928656510415631\n",
      "Log-likelihood on  test sessions: -0.2789687019331627\n",
      "Perplexity on train sessions: 1.3452909436941287\n",
      "Perplexity on  test sessions: 1.3345736188140032\n"
     ]
    }
   ],
   "source": [
    "print(f\"Log-likelihood on train sessions: {model_sdbn.log_likelihood(train_sessions)}\")\n",
    "print(f\"Log-likelihood on  test sessions: {model_sdbn.log_likelihood(test_sessions)}\")\n",
    "\n",
    "print(f\"Perplexity on train sessions: {model_sdbn.perplexity(train_sessions)}\")\n",
    "print(f\"Perplexity on  test sessions: {model_sdbn.perplexity(test_sessions)}\")"
   ]
  },
  {
   "cell_type": "code",
   "execution_count": null,
   "id": "2c889a39",
   "metadata": {},
   "outputs": [],
   "source": []
  },
  {
   "cell_type": "markdown",
   "id": "a38e63e2",
   "metadata": {},
   "source": [
    "# Ready library (pyclick)"
   ]
  },
  {
   "cell_type": "code",
   "execution_count": 19,
   "id": "8379fde0",
   "metadata": {},
   "outputs": [],
   "source": [
    "import sys\n",
    "import time\n",
    "from pyclick.utils.YandexRelPredChallengeParser import YandexRelPredChallengeParser\n",
    "from pyclick.utils.Utils import Utils\n",
    "from pyclick.click_models.Evaluation import LogLikelihood, Perplexity"
   ]
  },
  {
   "cell_type": "code",
   "execution_count": 20,
   "id": "41392d82",
   "metadata": {},
   "outputs": [],
   "source": [
    "search_sessions = YandexRelPredChallengeParser().parse(\"dataset/Clicklog.txt\", 1000)"
   ]
  },
  {
   "cell_type": "code",
   "execution_count": 21,
   "id": "b38d1344",
   "metadata": {},
   "outputs": [
    {
     "name": "stdout",
     "output_type": "stream",
     "text": [
      "===============================\n",
      "Training on 750 search sessions (563 unique queries).\n",
      "===============================\n"
     ]
    }
   ],
   "source": [
    "train_test_split = int(len(search_sessions) * 0.75)\n",
    "train_sessions = search_sessions[:train_test_split]\n",
    "train_queries = Utils.get_unique_queries(train_sessions)\n",
    "\n",
    "test_sessions = Utils.filter_sessions(search_sessions[train_test_split:], train_queries)\n",
    "test_queries = Utils.get_unique_queries(test_sessions)\n",
    "\n",
    "print(\"===============================\")\n",
    "print(\"Training on %d search sessions (%d unique queries).\" % (len(train_sessions), len(train_queries)))\n",
    "print(\"===============================\")"
   ]
  },
  {
   "cell_type": "code",
   "execution_count": 22,
   "id": "0bdbef21",
   "metadata": {},
   "outputs": [],
   "source": [
    "from pyclick.click_models.UBM import UBM\n",
    "\n",
    "click_model = UBM()\n",
    "click_model.train(train_sessions)"
   ]
  },
  {
   "cell_type": "code",
   "execution_count": 23,
   "id": "283bf0cc",
   "metadata": {},
   "outputs": [
    {
     "name": "stdout",
     "output_type": "stream",
     "text": [
      "-------------------------------\n",
      "Testing on 61 search sessions (35 unique queries).\n",
      "-------------------------------\n",
      "\tlog-likelihood: -0.274523; time: 0 secs\n",
      "\tperplexity: 1.347571; time: 0 secs\n"
     ]
    }
   ],
   "source": [
    "print(\"-------------------------------\")\n",
    "print(\"Testing on %d search sessions (%d unique queries).\" % (len(test_sessions), len(test_queries)))\n",
    "print(\"-------------------------------\")\n",
    "\n",
    "loglikelihood = LogLikelihood()\n",
    "perplexity = Perplexity()\n",
    "\n",
    "start = time.time()\n",
    "ll_value = loglikelihood.evaluate(click_model, test_sessions)\n",
    "end = time.time()\n",
    "print(\"\\tlog-likelihood: %f; time: %i secs\" % (ll_value, end - start))\n",
    "\n",
    "start = time.time()\n",
    "perp_value = perplexity.evaluate(click_model, test_sessions)[0]\n",
    "end = time.time()\n",
    "print(\"\\tperplexity: %f; time: %i secs\" % (perp_value, end - start))"
   ]
  },
  {
   "cell_type": "code",
   "execution_count": 24,
   "id": "a523aa89",
   "metadata": {},
   "outputs": [],
   "source": [
    "from pyclick.click_models.CTR import GCTR\n",
    "\n",
    "click_model2 = GCTR()\n",
    "\n",
    "start2 = time.time()\n",
    "click_model2.train(train_sessions)\n",
    "end2 = time.time()"
   ]
  },
  {
   "cell_type": "code",
   "execution_count": 25,
   "id": "f4b4c54c",
   "metadata": {},
   "outputs": [
    {
     "name": "stdout",
     "output_type": "stream",
     "text": [
      "-------------------------------\n",
      "Testing on 61 search sessions (35 unique queries).\n",
      "-------------------------------\n",
      "\tlog-likelihood: -0.388657; time: 0 secs\n",
      "\tperplexity: 1.583154; time: 0 secs\n"
     ]
    }
   ],
   "source": [
    "print(\"-------------------------------\")\n",
    "print(\"Testing on %d search sessions (%d unique queries).\" % (len(test_sessions), len(test_queries)))\n",
    "print(\"-------------------------------\")\n",
    "\n",
    "loglikelihood = LogLikelihood()\n",
    "perplexity = Perplexity()\n",
    "\n",
    "start = time.time()\n",
    "ll_value = loglikelihood.evaluate(click_model2, test_sessions)\n",
    "end = time.time()\n",
    "print(\"\\tlog-likelihood: %f; time: %i secs\" % (ll_value, end - start))\n",
    "\n",
    "start = time.time()\n",
    "perp_value = perplexity.evaluate(click_model2, test_sessions)[0]\n",
    "end = time.time()\n",
    "print(\"\\tperplexity: %f; time: %i secs\" % (perp_value, end - start))"
   ]
  },
  {
   "cell_type": "code",
   "execution_count": 26,
   "id": "afdf1519",
   "metadata": {},
   "outputs": [],
   "source": [
    "from pyclick.click_models.CTR import DCTR\n",
    "\n",
    "click_model3 = DCTR()\n",
    "\n",
    "start2 = time.time()\n",
    "click_model3.train(train_sessions)\n",
    "end2 = time.time()"
   ]
  },
  {
   "cell_type": "code",
   "execution_count": 27,
   "id": "a383e0dc",
   "metadata": {},
   "outputs": [
    {
     "name": "stdout",
     "output_type": "stream",
     "text": [
      "-------------------------------\n",
      "Testing on 61 search sessions (35 unique queries).\n",
      "-------------------------------\n",
      "\tlog-likelihood: -0.417432; time: 0 secs\n",
      "\tperplexity: 1.521013; time: 0 secs\n"
     ]
    }
   ],
   "source": [
    "print(\"-------------------------------\")\n",
    "print(\"Testing on %d search sessions (%d unique queries).\" % (len(test_sessions), len(test_queries)))\n",
    "print(\"-------------------------------\")\n",
    "\n",
    "loglikelihood = LogLikelihood()\n",
    "perplexity = Perplexity()\n",
    "\n",
    "start = time.time()\n",
    "ll_value = loglikelihood.evaluate(click_model3, test_sessions)\n",
    "end = time.time()\n",
    "print(\"\\tlog-likelihood: %f; time: %i secs\" % (ll_value, end - start))\n",
    "\n",
    "start = time.time()\n",
    "perp_value = perplexity.evaluate(click_model3, test_sessions)[0]\n",
    "end = time.time()\n",
    "print(\"\\tperplexity: %f; time: %i secs\" % (perp_value, end - start))"
   ]
  },
  {
   "cell_type": "code",
   "execution_count": 28,
   "id": "8835c4b8",
   "metadata": {},
   "outputs": [],
   "source": [
    "from pyclick.click_models.CM import CM\n",
    "\n",
    "click_model4 = CM()\n",
    "\n",
    "start2 = time.time()\n",
    "click_model4.train(train_sessions)\n",
    "end2 = time.time()"
   ]
  },
  {
   "cell_type": "code",
   "execution_count": 29,
   "id": "58829b1d",
   "metadata": {},
   "outputs": [
    {
     "name": "stdout",
     "output_type": "stream",
     "text": [
      "-------------------------------\n",
      "Testing on 61 search sessions (35 unique queries).\n",
      "-------------------------------\n",
      "\tlog-likelihood: -9.884596; time: 0 secs\n",
      "\tperplexity: 1.385276; time: 0 secs\n"
     ]
    }
   ],
   "source": [
    "print(\"-------------------------------\")\n",
    "print(\"Testing on %d search sessions (%d unique queries).\" % (len(test_sessions), len(test_queries)))\n",
    "print(\"-------------------------------\")\n",
    "\n",
    "loglikelihood = LogLikelihood()\n",
    "perplexity = Perplexity()\n",
    "\n",
    "start = time.time()\n",
    "ll_value = loglikelihood.evaluate(click_model4, test_sessions)\n",
    "end = time.time()\n",
    "print(\"\\tlog-likelihood: %f; time: %i secs\" % (ll_value, end - start))\n",
    "\n",
    "start = time.time()\n",
    "perp_value = perplexity.evaluate(click_model4, test_sessions)[0]\n",
    "end = time.time()\n",
    "print(\"\\tperplexity: %f; time: %i secs\" % (perp_value, end - start))"
   ]
  },
  {
   "cell_type": "code",
   "execution_count": 30,
   "id": "560aead4",
   "metadata": {},
   "outputs": [],
   "source": [
    "from pyclick.click_models.DCM import DCM\n",
    "\n",
    "click_model5 = DCM()\n",
    "click_model5.train(train_sessions)"
   ]
  },
  {
   "cell_type": "code",
   "execution_count": 31,
   "id": "43e57ae4",
   "metadata": {},
   "outputs": [
    {
     "name": "stdout",
     "output_type": "stream",
     "text": [
      "-------------------------------\n",
      "Testing on 61 search sessions (35 unique queries).\n",
      "-------------------------------\n",
      "\tlog-likelihood: -0.333019; time: 0 secs\n",
      "\tperplexity: 1.370161; time: 0 secs\n"
     ]
    }
   ],
   "source": [
    "print(\"-------------------------------\")\n",
    "print(\"Testing on %d search sessions (%d unique queries).\" % (len(test_sessions), len(test_queries)))\n",
    "print(\"-------------------------------\")\n",
    "\n",
    "loglikelihood = LogLikelihood()\n",
    "perplexity = Perplexity()\n",
    "\n",
    "start = time.time()\n",
    "ll_value = loglikelihood.evaluate(click_model5, test_sessions)\n",
    "end = time.time()\n",
    "print(\"\\tlog-likelihood: %f; time: %i secs\" % (ll_value, end - start))\n",
    "\n",
    "start = time.time()\n",
    "perp_value = perplexity.evaluate(click_model5, test_sessions)[0]\n",
    "end = time.time()\n",
    "print(\"\\tperplexity: %f; time: %i secs\" % (perp_value, end - start))"
   ]
  },
  {
   "cell_type": "code",
   "execution_count": 32,
   "id": "bd2a8d7b",
   "metadata": {},
   "outputs": [],
   "source": [
    "from pyclick.click_models.CTR import RCTR\n",
    "\n",
    "click_model6 = RCTR()\n",
    "click_model6.train(train_sessions)"
   ]
  },
  {
   "cell_type": "code",
   "execution_count": 33,
   "id": "4d7d7c81",
   "metadata": {},
   "outputs": [],
   "source": [
    "from pyclick.click_models.PBM import PBM\n",
    "\n",
    "click_model7 = PBM()\n",
    "click_model7.train(train_sessions)"
   ]
  },
  {
   "cell_type": "code",
   "execution_count": 34,
   "id": "36177502",
   "metadata": {
    "scrolled": true
   },
   "outputs": [
    {
     "name": "stdout",
     "output_type": "stream",
     "text": [
      "-------------------------------\n",
      "Testing on 61 search sessions (35 unique queries).\n",
      "-------------------------------\n",
      "\tlog-likelihood: -0.272134; time: 0 secs\n",
      "\tperplexity: 1.318956; time: 0 secs\n"
     ]
    }
   ],
   "source": [
    "print(\"-------------------------------\")\n",
    "print(\"Testing on %d search sessions (%d unique queries).\" % (len(test_sessions), len(test_queries)))\n",
    "print(\"-------------------------------\")\n",
    "\n",
    "loglikelihood = LogLikelihood()\n",
    "perplexity = Perplexity()\n",
    "\n",
    "start = time.time()\n",
    "ll_value = loglikelihood.evaluate(click_model7, train_sessions)\n",
    "end = time.time()\n",
    "print(\"\\tlog-likelihood: %f; time: %i secs\" % (ll_value, end - start))\n",
    "\n",
    "start = time.time()\n",
    "perp_value = perplexity.evaluate(click_model7, train_sessions)[0]\n",
    "end = time.time()\n",
    "print(\"\\tperplexity: %f; time: %i secs\" % (perp_value, end - start))"
   ]
  },
  {
   "cell_type": "code",
   "execution_count": 35,
   "id": "70fe27d6",
   "metadata": {},
   "outputs": [],
   "source": [
    "from pyclick.click_models.SDBN import SDBN\n",
    "\n",
    "click_model8 = SDBN()\n",
    "click_model8.train(train_sessions)"
   ]
  },
  {
   "cell_type": "code",
   "execution_count": 36,
   "id": "192e145a",
   "metadata": {},
   "outputs": [
    {
     "name": "stdout",
     "output_type": "stream",
     "text": [
      "-------------------------------\n",
      "Testing on 61 search sessions (35 unique queries).\n",
      "-------------------------------\n",
      "\tlog-likelihood: -0.250771; time: 0 secs\n",
      "\tperplexity: 1.288752; time: 0 secs\n"
     ]
    }
   ],
   "source": [
    "print(\"-------------------------------\")\n",
    "print(\"Testing on %d search sessions (%d unique queries).\" % (len(test_sessions), len(test_queries)))\n",
    "print(\"-------------------------------\")\n",
    "\n",
    "loglikelihood = LogLikelihood()\n",
    "perplexity = Perplexity()\n",
    "\n",
    "start = time.time()\n",
    "ll_value = loglikelihood.evaluate(click_model8, train_sessions)\n",
    "end = time.time()\n",
    "print(\"\\tlog-likelihood: %f; time: %i secs\" % (ll_value, end - start))\n",
    "\n",
    "start = time.time()\n",
    "perp_value = perplexity.evaluate(click_model8, train_sessions)[0]\n",
    "end = time.time()\n",
    "print(\"\\tperplexity: %f; time: %i secs\" % (perp_value, end - start))"
   ]
  }
 ],
 "metadata": {
  "kernelspec": {
   "display_name": "Python 3 (ipykernel)",
   "language": "python",
   "name": "python3"
  },
  "language_info": {
   "codemirror_mode": {
    "name": "ipython",
    "version": 3
   },
   "file_extension": ".py",
   "mimetype": "text/x-python",
   "name": "python",
   "nbconvert_exporter": "python",
   "pygments_lexer": "ipython3",
   "version": "3.8.10"
  }
 },
 "nbformat": 4,
 "nbformat_minor": 5
}
